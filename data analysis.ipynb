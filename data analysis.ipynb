{
 "cells": [
  {
   "cell_type": "code",
   "execution_count": 1,
   "id": "6f81a125",
   "metadata": {},
   "outputs": [],
   "source": [
    "import tensorflow as tf\n",
    "import keras\n",
    "#from tensorflow.keras.datasets import mnist\n",
    "#from tensorflow.keras import Input\n",
    "#from tensorflow.keras.layers import Dense, Activation, Conv1D, Flatten, Dropout, MaxPooling1D, BatchNormalization\n",
    "from tensorflow.keras.models import Model\n",
    "#from keras.models import Sequential\n",
    "import matplotlib.pyplot as plt\n",
    "import numpy as np\n",
    "import pandas as pd"
   ]
  },
  {
   "cell_type": "markdown",
   "id": "36aa1d54",
   "metadata": {},
   "source": [
    "See also README.txt."
   ]
  },
  {
   "cell_type": "code",
   "execution_count": 3,
   "id": "ed8e95f0",
   "metadata": {},
   "outputs": [],
   "source": [
    "model_path = \"curriculum_cnn2_GData10000_5epochs_level0/\"\n",
    "model_name = \"cnn2\"\n",
    "\n",
    "levels = [0] # just one should be chosen\n",
    "nrows = 20000\n",
    "test_size = 0.2 # this should be consistent with how the data was created, test_size = |test set| / |all data|\n",
    "nrows_test = int(test_size * nrows)\n",
    "\n",
    "for level in levels: # len(levels) should be just one, changing levels so far works only manually\n",
    "    \n",
    "    # load the model and the labels of the test set\n",
    "    cnn = keras.models.load_model(model_path + model_name)\n",
    "    y_and_ids_test = np.load(model_path + \"y_and_ids_test_{}.npy\".format(level))\n",
    "    y_test = y_and_ids_test[:, 0]\n",
    "    ids_test = y_and_ids_test[:, 1]\n",
    "    \n",
    "    # reconstruct the name of the appropriate .csv file\n",
    "    csv_names = []\n",
    "    #csv_default = \"00000000_0.csv\"\n",
    "    for idx in range(nrows_test):\n",
    "        is_event = y_test[idx]\n",
    "        ID = int(ids_test[idx] + level*1e4)\n",
    "        #if not(idx%100):\n",
    "        #   print(ID)\n",
    "        ten_thousands = ID // 10000\n",
    "        ID = (ID - 10000*ten_thousands)\n",
    "        thousands = ID // 1000\n",
    "        ID = (ID - 1000*thousands)\n",
    "        hundreds = ID // 100\n",
    "        ID = (ID - 100*hundreds)\n",
    "        dozens =  ID // 10\n",
    "        ID = ID - 10*dozens\n",
    "        ones = ID\n",
    "        csv_name = \"000{}{}{}{}{}_{}.csv\".format(ten_thousands, thousands, hundreds, dozens, ones, is_event)\n",
    "        csv_names.append(csv_name)\n",
    "    \n",
    "    # extract the desired data from .csv files\n",
    "    csv_path = \"FT_data/FreqCL_csv_{}/\".format(level)\n",
    "    PISNRs = np.zeros(nrows_test)\n",
    "    for idx in range(nrows_test):\n",
    "        df = pd.read_csv(csv_path+csv_names[idx])\n",
    "        PISNRs[idx] = df[\"netPIsnr\"]\n",
    "    \n",
    "    # save the extracted data\n",
    "    np.save(csv_path+\"PISNRs_{}\".format(level), PISNRs)"
   ]
  },
  {
   "cell_type": "code",
   "execution_count": 8,
   "id": "73d24ffd",
   "metadata": {},
   "outputs": [
    {
     "data": {
      "text/html": [
       "<div>\n",
       "<style scoped>\n",
       "    .dataframe tbody tr th:only-of-type {\n",
       "        vertical-align: middle;\n",
       "    }\n",
       "\n",
       "    .dataframe tbody tr th {\n",
       "        vertical-align: top;\n",
       "    }\n",
       "\n",
       "    .dataframe thead th {\n",
       "        text-align: right;\n",
       "    }\n",
       "</style>\n",
       "<table border=\"1\" class=\"dataframe\">\n",
       "  <thead>\n",
       "    <tr style=\"text-align: right;\">\n",
       "      <th></th>\n",
       "      <th>Unnamed: 0</th>\n",
       "      <th>netSnr</th>\n",
       "      <th>netPIsnr</th>\n",
       "      <th>H1_PISNR</th>\n",
       "      <th>L1_PISNR</th>\n",
       "      <th>V1_PISNR</th>\n",
       "      <th>d</th>\n",
       "      <th>m1</th>\n",
       "      <th>m2</th>\n",
       "      <th>ra</th>\n",
       "      <th>...</th>\n",
       "      <th>pycbc_H1_PISNR</th>\n",
       "      <th>pycbc_L1_PISNR</th>\n",
       "      <th>pycbc_V1_PISNR</th>\n",
       "      <th>injection</th>\n",
       "      <th>max_noisy_H1</th>\n",
       "      <th>max_noisyL1</th>\n",
       "      <th>max_noisyV1</th>\n",
       "      <th>max_hH1</th>\n",
       "      <th>max_hL1</th>\n",
       "      <th>max_hV1</th>\n",
       "    </tr>\n",
       "  </thead>\n",
       "  <tbody>\n",
       "    <tr>\n",
       "      <th>0</th>\n",
       "      <td>0</td>\n",
       "      <td>47.357591</td>\n",
       "      <td>14.831984</td>\n",
       "      <td>10.547</td>\n",
       "      <td>8.518728</td>\n",
       "      <td>6.014967</td>\n",
       "      <td>21.936246</td>\n",
       "      <td>2.517517</td>\n",
       "      <td>2.257709</td>\n",
       "      <td>3.104776</td>\n",
       "      <td>...</td>\n",
       "      <td>11.274427</td>\n",
       "      <td>9.121622</td>\n",
       "      <td>6.454807</td>\n",
       "      <td>0</td>\n",
       "      <td>43.154543</td>\n",
       "      <td>47.256989</td>\n",
       "      <td>46.913262</td>\n",
       "      <td>0.0</td>\n",
       "      <td>1.207923e-13</td>\n",
       "      <td>3.552714e-14</td>\n",
       "    </tr>\n",
       "  </tbody>\n",
       "</table>\n",
       "<p>1 rows × 37 columns</p>\n",
       "</div>"
      ],
      "text/plain": [
       "   Unnamed: 0     netSnr   netPIsnr  H1_PISNR  L1_PISNR  V1_PISNR          d  \\\n",
       "0           0  47.357591  14.831984    10.547  8.518728  6.014967  21.936246   \n",
       "\n",
       "         m1        m2        ra  ...  pycbc_H1_PISNR  pycbc_L1_PISNR  \\\n",
       "0  2.517517  2.257709  3.104776  ...       11.274427        9.121622   \n",
       "\n",
       "   pycbc_V1_PISNR  injection  max_noisy_H1  max_noisyL1  max_noisyV1  max_hH1  \\\n",
       "0        6.454807          0     43.154543    47.256989    46.913262      0.0   \n",
       "\n",
       "        max_hL1       max_hV1  \n",
       "0  1.207923e-13  3.552714e-14  \n",
       "\n",
       "[1 rows x 37 columns]"
      ]
     },
     "execution_count": 8,
     "metadata": {},
     "output_type": "execute_result"
    }
   ],
   "source": [
    "# example of a csv file\n",
    "#pd.read_csv(\"older_versions/gw_data_sequential_first100/FreqCL_O3_1/00010000_0.csv\")"
   ]
  },
  {
   "cell_type": "code",
   "execution_count": 5,
   "id": "768b3332",
   "metadata": {},
   "outputs": [
    {
     "data": {
      "text/html": [
       "<div>\n",
       "<style scoped>\n",
       "    .dataframe tbody tr th:only-of-type {\n",
       "        vertical-align: middle;\n",
       "    }\n",
       "\n",
       "    .dataframe tbody tr th {\n",
       "        vertical-align: top;\n",
       "    }\n",
       "\n",
       "    .dataframe thead th {\n",
       "        text-align: right;\n",
       "    }\n",
       "</style>\n",
       "<table border=\"1\" class=\"dataframe\">\n",
       "  <thead>\n",
       "    <tr style=\"text-align: right;\">\n",
       "      <th></th>\n",
       "      <th>Unnamed: 0</th>\n",
       "      <th>netSnr</th>\n",
       "      <th>netPIsnr</th>\n",
       "      <th>H1_PISNR</th>\n",
       "      <th>L1_PISNR</th>\n",
       "      <th>V1_PISNR</th>\n",
       "      <th>d</th>\n",
       "      <th>m1</th>\n",
       "      <th>m2</th>\n",
       "      <th>ra</th>\n",
       "      <th>...</th>\n",
       "      <th>pycbc_H1_PISNR</th>\n",
       "      <th>pycbc_L1_PISNR</th>\n",
       "      <th>pycbc_V1_PISNR</th>\n",
       "      <th>injection</th>\n",
       "      <th>max_noisy_H1</th>\n",
       "      <th>max_noisyL1</th>\n",
       "      <th>max_noisyV1</th>\n",
       "      <th>max_hH1</th>\n",
       "      <th>max_hL1</th>\n",
       "      <th>max_hV1</th>\n",
       "    </tr>\n",
       "  </thead>\n",
       "  <tbody>\n",
       "    <tr>\n",
       "      <th>0</th>\n",
       "      <td>0</td>\n",
       "      <td>47.357591</td>\n",
       "      <td>14.831984</td>\n",
       "      <td>10.547</td>\n",
       "      <td>8.518728</td>\n",
       "      <td>6.014967</td>\n",
       "      <td>21.936246</td>\n",
       "      <td>2.517517</td>\n",
       "      <td>2.257709</td>\n",
       "      <td>3.104776</td>\n",
       "      <td>...</td>\n",
       "      <td>11.274427</td>\n",
       "      <td>9.121622</td>\n",
       "      <td>6.454807</td>\n",
       "      <td>1</td>\n",
       "      <td>46.673747</td>\n",
       "      <td>39.763302</td>\n",
       "      <td>43.898728</td>\n",
       "      <td>3.457422</td>\n",
       "      <td>2.563699</td>\n",
       "      <td>2.156663</td>\n",
       "    </tr>\n",
       "  </tbody>\n",
       "</table>\n",
       "<p>1 rows × 37 columns</p>\n",
       "</div>"
      ],
      "text/plain": [
       "   Unnamed: 0     netSnr   netPIsnr  H1_PISNR  L1_PISNR  V1_PISNR          d  \\\n",
       "0           0  47.357591  14.831984    10.547  8.518728  6.014967  21.936246   \n",
       "\n",
       "         m1        m2        ra  ...  pycbc_H1_PISNR  pycbc_L1_PISNR  \\\n",
       "0  2.517517  2.257709  3.104776  ...       11.274427        9.121622   \n",
       "\n",
       "   pycbc_V1_PISNR  injection  max_noisy_H1  max_noisyL1  max_noisyV1  \\\n",
       "0        6.454807          1     46.673747    39.763302    43.898728   \n",
       "\n",
       "    max_hH1   max_hL1   max_hV1  \n",
       "0  3.457422  2.563699  2.156663  \n",
       "\n",
       "[1 rows x 37 columns]"
      ]
     },
     "execution_count": 5,
     "metadata": {},
     "output_type": "execute_result"
    }
   ],
   "source": [
    "#pd.read_csv(\"older_versions/gw_data_sequential_first100/FreqCL_O3_1/00010000_1.csv\")"
   ]
  },
  {
   "cell_type": "code",
   "execution_count": 4,
   "id": "ac9b9ed3",
   "metadata": {
    "scrolled": true
   },
   "outputs": [
    {
     "name": "stdout",
     "output_type": "stream",
     "text": [
      "53.42396640777588\n"
     ]
    }
   ],
   "source": [
    "# use the model to predict probabilities of GWs being in the test set\n",
    "import time \n",
    "\n",
    "for level in levels:\n",
    "    \n",
    "    # load the data\n",
    "    PISRNs = np.load(csv_path+\"PISNRs_{}.npy\".format(level))\n",
    "    #plt.hist(PISRNs, bins=40)\n",
    "    #plt.show()\n",
    "    \n",
    "    # reconstruct the data in the test set\n",
    "    X = np.load(\"FT_data/X_FT_GData_{}.npy\".format(level))\n",
    "    # rows of X that end up in the test set are identified below, the transformation comes from the fact that\n",
    "    # first nrows/2 is 0s (noise) and second nrows/2 is 1s (noise+GWs), this of course gets shuffled by\n",
    "    # train_test_split, but event IDs and 0/1 status is preserved in y_and_ids_test, allowing us to reconstruct X_test\n",
    "    rows_test = ids_test + y_test * nrows // 2\n",
    "    X_test = X[rows_test,:,:]\n",
    "    # exchange second and third dimension to comply with keras expected array shape (\"channels last\")\n",
    "    X_test = np.swapaxes(X_test, 1, 2)\n",
    "    \n",
    "    # predict the labels\n",
    "    t1 = time.time()\n",
    "    y_pred = cnn.predict(X_test)\n",
    "    t2 = time.time()\n",
    "    print(t2-t1)\n",
    "    np.save(model_path + \"y_pred_{}\".format(level), y_pred)"
   ]
  },
  {
   "cell_type": "code",
   "execution_count": 5,
   "id": "164a4e5f",
   "metadata": {},
   "outputs": [
    {
     "data": {
      "image/png": "[encoded data removed]",
      "text/plain": [
       "<Figure size 432x288 with 1 Axes>"
      ]
     },
     "metadata": {
      "needs_background": "light"
     },
     "output_type": "display_data"
    }
   ],
   "source": [
    "# plot the predicted probabilites\n",
    "for level in levels:\n",
    "    y_pred = np.load(model_path + \"y_pred_{}.npy\".format(level)).flatten()\n",
    "    y_pred_0 = y_pred[np.argwhere(y_test==0)]\n",
    "    y_pred_1 = y_pred[np.argwhere(y_test==1)]\n",
    "    plt.hist(y_pred_0, alpha=0.5, bins=50, density=True, label=\"y_test = 0, mean predicted P(1): {:.3f}\".format(np.mean(y_pred_0)))\n",
    "    plt.hist(y_pred_1, alpha=0.5, bins=50, density=True, label=\"y_test = 1, mean predicted P(1): {:.3f}\".format(np.mean(y_pred_1)))\n",
    "    plt.legend()\n",
    "    plt.title(\"Estimated test set Prob(GW) at level {}\".format(level))\n",
    "    plt.xlabel(\"Prob(GW) $\\equiv$ P(1)\")\n",
    "    plt.ylabel(\"predicted class probability density\")\n",
    "    plt.savefig(model_path + \"fig_pred_prob_{}\".format(level), dpi=400)\n",
    "    plt.show()"
   ]
  },
  {
   "cell_type": "code",
   "execution_count": 6,
   "id": "bf026927",
   "metadata": {},
   "outputs": [
    {
     "name": "stdout",
     "output_type": "stream",
     "text": [
      "Optimal threshold for FAP = 0.01 is P(y=1) = 0.830\n",
      "This threshold of P(y=1) produces accuracy of 0.748, as opposed to 0.779 if threshold was chosen as 0.5,\n",
      "and a TAP of 0.502, as opposed to 0.745 if threshold was chosen as 0.5.\n",
      "(sanity check: corresponding FAP is 0.010)\n"
     ]
    }
   ],
   "source": [
    "# FINDING THE PROBABILITY THRESHOLD FOR DETECTION, UNDER A FIXED FAP\n",
    "\n",
    "desired_FAP = 0.01 # desired maximum false alarm probability\n",
    "\n",
    "from sklearn.metrics import confusion_matrix\n",
    "\n",
    "for level in levels:\n",
    "    \n",
    "    # find detection threshold for FAP <= desired_FAP\n",
    "    # conf_mat = confusion_matrix(y_test, y_pred > 0.5)\n",
    "    # print(\"threshold = 0.5:\\n\", conf_mat)\n",
    "    thresholds = np.arange(0, 1, 0.001) # different thresholds for model probability of GW (P(1)) to conclude detection\n",
    "    FAPs = np.zeros_like(thresholds) # false alarm probabilities\n",
    "    TAPs = np.zeros_like(thresholds) # true alarm probabilities\n",
    "    accuracies = np.zeros_like(thresholds) # accuracies\n",
    "    for idx, threshold in enumerate(thresholds):\n",
    "        conf_mat = confusion_matrix(y_test, y_pred > threshold)\n",
    "        FP = conf_mat[0, 1]\n",
    "        TN = conf_mat[0, 0]\n",
    "        FN = conf_mat[1, 0]\n",
    "        TP = conf_mat[1, 1]\n",
    "        TAPs[idx] = TP / (TP + FN) # out of all GW events, TAP * 100% will raise alarm \n",
    "        FAPs[idx] = FP / (TN + FP) # out of all non-GW \"events\", only FAP * 100% will raise alarm \n",
    "        accuracies[idx] = (TP + TN) / (TP + TN + FP + FN)\n",
    "    idx_opt = np.argmin( np.abs(FAPs - desired_FAP))\n",
    "    threshold_opt = thresholds[idx_opt]\n",
    "    accuracy_opt = accuracies[idx_opt]\n",
    "    accuracy_05 = accuracies[len(accuracies)//2]\n",
    "    TAP_opt = TAPs[idx_opt]\n",
    "    TAP_05 = TAPs[len(accuracies)//2]\n",
    "    print(\"Optimal threshold for FAP = {:.2f} is P(y=1) = {:.3f}\".format(desired_FAP, threshold_opt))\n",
    "    print(\"This threshold of P(y=1) produces accuracy of {:.3f}, as opposed to {:.3f} if threshold was chosen as 0.5,\\nand a TAP of {:.3f}, as opposed to {:.3f} if threshold was chosen as 0.5.\"\n",
    "          .format(accuracy_opt, accuracy_05, TAP_opt, TAP_05))\n",
    "    print(\"(sanity check: corresponding FAP is {:.3f})\".format(FAPs[idx_opt]))"
   ]
  },
  {
   "cell_type": "code",
   "execution_count": 7,
   "id": "f48ff359",
   "metadata": {},
   "outputs": [
    {
     "data": {
      "image/png": "[encoded data removed]",
      "text/plain": [
       "<Figure size 432x288 with 1 Axes>"
      ]
     },
     "metadata": {
      "needs_background": "light"
     },
     "output_type": "display_data"
    }
   ],
   "source": [
    "for level in levels:\n",
    "    plt.hist(y_pred_0, alpha=0.5, bins=50, density=True, label=\"y_test = 0, mean predicted P(1): {:.3f}\".format(np.mean(y_pred_0)))\n",
    "    plt.hist(y_pred_1, alpha=0.5, bins=50, density=True, label=\"y_test = 1, mean predicted P(1): {:.3f}\".format(np.mean(y_pred_1)))\n",
    "    plt.axvline(x = 0.5, alpha=0.5, c=\"k\", linestyle=\"dashed\", label=\"default threshold (P(1)=0.5)\")\n",
    "    plt.axvline(x = threshold_opt, alpha=0.5, c=\"k\", label=\"threshold for FAP={} (P(1)={:.2f})\".format(desired_FAP, threshold_opt))\n",
    "    plt.legend()\n",
    "    #plt.title(\"Estimated test set Prob(GW) at level {}\".format(level))\n",
    "    plt.xlabel(\"Prob(GW) $\\equiv$ P(1)\")\n",
    "    plt.ylabel(\"predicted class probability density\")\n",
    "    plt.savefig(model_path + \"fig_pred_prob_withBothLines_{}\".format(level), dpi=400)\n",
    "    plt.show()"
   ]
  },
  {
   "cell_type": "code",
   "execution_count": 46,
   "id": "2c10784b",
   "metadata": {},
   "outputs": [
    {
     "name": "stdout",
     "output_type": "stream",
     "text": [
      "\n",
      "quantiles 0,0.1...,0.9 of PISRN distribution: [ 4.24 14.53 18.64 22.17 25.47 29.24 34.05 39.92 47.38 60.94]\n",
      "\n",
      "bins of PISRNs are in range(10): [6 9 7 ... 9 8 2]\n",
      "\n",
      "counts in these 10 bins: [400, 400, 400, 400, 400, 400, 399, 401, 400, 400]\n"
     ]
    },
    {
     "data": {
      "image/png": "[encoded data removed]",
      "text/plain": [
       "<Figure size 432x288 with 1 Axes>"
      ]
     },
     "metadata": {
      "needs_background": "light"
     },
     "output_type": "display_data"
    }
   ],
   "source": [
    "# Plot the equivalent of figure 5 from the 2022 Paper (CNN for GW early alert: going down in freq.)\n",
    "\n",
    "for level in levels:\n",
    "        \n",
    "    # calculate the 10-percentage quantiles\n",
    "    quants10 = np.quantile(PISRNs, np.arange(0, 1, 0.1), interpolation=\"linear\")\n",
    "    \n",
    "    # assign values to the bins calculated with those quantiles (by default, to the left)\n",
    "    bins10 = np.digitize(PISRNs, quants10, right=False)-1 # from 0 to 9 inclusive\n",
    "    bins10_counts = [np.sum(bins10==i) for i in range(10)]\n",
    "    print(\"\\nquantiles 0,0.1...,0.9 of PISRN distribution: {}\".format(np.round(quants10,2)))\n",
    "    print(\"\\nbins of PISRNs are in range(10):\", bins10)\n",
    "    print(\"\\ncounts in these 10 bins:\", bins10_counts)\n",
    "    \n",
    "    # calculate the bin TAPs and PISNR bin averages\n",
    "    TAPs_bin = np.zeros(10)\n",
    "    PISNRs_bin = np.zeros(10)\n",
    "    for idx_bin in range(10):\n",
    "        # PISNR\n",
    "        PISNRs_bin[idx_bin] = np.mean( PISNRs[np.argwhere(bins10==idx_bin)] )\n",
    "        # TAP\n",
    "        y_test_bin = y_test[np.argwhere(bins10==idx_bin)]\n",
    "        y_pred_bin = y_pred[np.argwhere(bins10==idx_bin)]\n",
    "        conf_mat = confusion_matrix(y_test_bin, y_pred_bin > threshold_opt)\n",
    "        FN = conf_mat[1, 0]\n",
    "        TP = conf_mat[1, 1]\n",
    "        TAPs_bin[idx_bin] = TP / (TP + FN) # out of all GW events, (TAP*100)% will raise alarm \n",
    "    \n",
    "    np.save(model_path + \"PISNR_TAP_{}\".format(level), np.stack((PISNRs_bin, TAPs_bin)))\n",
    "    \n",
    "    plt.title(\"Level: {}\".format(level))\n",
    "    plt.scatter(PISNRs_bin, TAPs_bin)\n",
    "    plt.plot(PISNRs_bin, TAPs_bin)\n",
    "    plt.xlabel(\"Mean PISRN\")\n",
    "    plt.ylabel(\"TAP\")\n",
    "    plt.ylim(0, 1)\n",
    "    plt.savefig(model_path + \"PISNR_TAP_{}.png\".format(level))\n",
    "    plt.show()"
   ]
  },
  {
   "cell_type": "code",
   "execution_count": 47,
   "id": "abac3e14",
   "metadata": {},
   "outputs": [
    {
     "data": {
      "image/png": "[encoded data removed]",
      "text/plain": [
       "<Figure size 432x288 with 1 Axes>"
      ]
     },
     "metadata": {
      "needs_background": "light"
     },
     "output_type": "display_data"
    }
   ],
   "source": [
    "# do the plot of all levels together\n",
    "\n",
    "path_to_load_data = model_path\n",
    "path_to_save_png = model_path\n",
    "\n",
    "for level in [0, 1, 2]:#,1,2]:\n",
    "    PISNRs_TAPs = np.load(path_to_load_data + \"PISNR_TAP_{}.npy\".format(level))\n",
    "    TAPs_bin = PISNRs_TAPs[1, :]\n",
    "    #plt.title(\"Level: {}\".format(level))\n",
    "    plt.scatter(PISNRs_bin, TAPs_bin, label=\"level {}\".format(level))\n",
    "    plt.plot(PISNRs_bin, TAPs_bin)\n",
    "    plt.xlabel(\"Mean PISRN\")\n",
    "    plt.ylabel(\"TAP\")\n",
    "    plt.ylim(0, 1)\n",
    "    plt.legend()\n",
    "plt.savefig(path_to_save_png+\"PISNR_TAP_{}.png\".format(level))\n",
    "plt.show()"
   ]
  },
  {
   "cell_type": "code",
   "execution_count": 52,
   "id": "c71a0d55",
   "metadata": {},
   "outputs": [
    {
     "data": {
      "text/plain": [
       "(400, 1)"
      ]
     },
     "execution_count": 52,
     "metadata": {},
     "output_type": "execute_result"
    }
   ],
   "source": [
    "np.shape(np.argwhere(bins10==0))"
   ]
  },
  {
   "cell_type": "code",
   "execution_count": 16,
   "id": "e130501d",
   "metadata": {},
   "outputs": [
    {
     "data": {
      "text/plain": [
       "4000"
      ]
     },
     "execution_count": 16,
     "metadata": {},
     "output_type": "execute_result"
    }
   ],
   "source": [
    "len(PISRNs) #- len(np.unique(PISRNs))"
   ]
  },
  {
   "cell_type": "code",
   "execution_count": 34,
   "id": "f4a78168",
   "metadata": {},
   "outputs": [
    {
     "data": {
      "text/plain": [
       "10"
      ]
     },
     "execution_count": 34,
     "metadata": {},
     "output_type": "execute_result"
    }
   ],
   "source": [
    "len(np.arange(0,1,0.1))"
   ]
  },
  {
   "cell_type": "code",
   "execution_count": 24,
   "id": "cd0feb92",
   "metadata": {},
   "outputs": [
    {
     "data": {
      "text/plain": [
       "array([0, 1, 1, 2, 2, 3, 3, 3, 3], dtype=int64)"
      ]
     },
     "execution_count": 24,
     "metadata": {},
     "output_type": "execute_result"
    }
   ],
   "source": [
    "np.digitize([0.5, 1, 1.5, 2, 2.5, 3, 3, 3, 3.5], bins=[1,2, 3, 4])"
   ]
  },
  {
   "cell_type": "code",
   "execution_count": 38,
   "id": "485e1d6e",
   "metadata": {},
   "outputs": [
    {
     "data": {
      "text/plain": [
       "array([1, 2, 3])"
      ]
     },
     "execution_count": 38,
     "metadata": {},
     "output_type": "execute_result"
    }
   ],
   "source": [
    "np.arange(10)[[1,2,3]]"
   ]
  },
  {
   "cell_type": "code",
   "execution_count": 65,
   "id": "ed156793",
   "metadata": {},
   "outputs": [
    {
     "data": {
      "text/plain": [
       "(array([0, 0, 0, 0, 0, 1, 1, 1, 1, 1, 1], dtype=int64),\n",
       " array([0, 1, 2, 3, 4, 0, 1, 2, 3, 4, 5], dtype=int64))"
      ]
     },
     "execution_count": 65,
     "metadata": {},
     "output_type": "execute_result"
    }
   ],
   "source": [
    "b = np.array([[1,2,3,4,5,0], [10,20,30,40,50,60]])\n",
    "np.nonzero(b)"
   ]
  },
  {
   "cell_type": "code",
   "execution_count": 98,
   "id": "14d4ea73",
   "metadata": {},
   "outputs": [
    {
     "data": {
      "image/png": "[encoded data removed]",
      "text/plain": [
       "<Figure size 432x288 with 1 Axes>"
      ]
     },
     "metadata": {
      "needs_background": "light"
     },
     "output_type": "display_data"
    }
   ],
   "source": [
    "plt.hist(PISRNs, bins=50)\n",
    "plt.show()"
   ]
  },
  {
   "cell_type": "code",
   "execution_count": 100,
   "id": "667b6569",
   "metadata": {},
   "outputs": [
    {
     "data": {
      "text/plain": [
       "array([1, 2, 3, 4])"
      ]
     },
     "execution_count": 100,
     "metadata": {},
     "output_type": "execute_result"
    }
   ],
   "source": [
    "a = np.array([1,2,3,4])\n",
    "b = np.array([5,6,7,8])\n",
    "#c = np.array([9,10,11,12])\n",
    "\n",
    "Z = np.stack((a, b))\n",
    "Z[0, :]"
   ]
  },
  {
   "cell_type": "code",
   "execution_count": null,
   "id": "f074eeea",
   "metadata": {},
   "outputs": [],
   "source": []
  }
 ],
 "metadata": {
  "kernelspec": {
   "display_name": "Python 3",
   "language": "python",
   "name": "python3"
  },
  "language_info": {
   "codemirror_mode": {
    "name": "ipython",
    "version": 3
   },
   "file_extension": ".py",
   "mimetype": "text/x-python",
   "name": "python",
   "nbconvert_exporter": "python",
   "pygments_lexer": "ipython3",
   "version": "3.8.8"
  }
 },
 "nbformat": 4,
 "nbformat_minor": 5
}
